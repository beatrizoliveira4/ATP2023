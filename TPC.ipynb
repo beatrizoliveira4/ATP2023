{
 "cells": [
  {
   "cell_type": "markdown",
   "id": "1e545158",
   "metadata": {},
   "source": [
    "# Aula Prática 4 (guião)\n",
    "### Semana de 2 a 6 de Outubro de 2023\n",
    "### José Carlos Ramalho e Luís Cunha\n",
    "### Sinopsis:\n",
    "Algoritmos sobre listas."
   ]
  },
  {
   "cell_type": "markdown",
   "id": "e38d18c4-d7d7-4fea-9bc6-e3f3c903386b",
   "metadata": {},
   "source": [
    "### Exercício 1: Criar uma lista \n",
    "- Defina uma função que recebe um argumento **N** e devolve uma  lista com os números ímpares até **N**;\n",
    "- Crie um programa que chama a função e imprime a lista resultante."
   ]
  },
  {
   "cell_type": "code",
   "execution_count": 13,
   "id": "af973146-3bb4-4fa8-ba6c-b887b79ccff8",
   "metadata": {},
   "outputs": [
    {
     "data": {
      "text/plain": [
       "[1, 3, 5, 7, 9]"
      ]
     },
     "execution_count": 13,
     "metadata": {},
     "output_type": "execute_result"
    }
   ],
   "source": [
    "# Solução do exercício 1\n",
    "def impares(N):\n",
    "    lista = []\n",
    "    for n in range (0,N+1):\n",
    "        if n % 2 == 1:\n",
    "            lista.append(n)\n",
    "    return lista\n",
    "impares(10)\n",
    "\n",
    "def impares2(N):\n",
    "    lista = []\n",
    "    x = 0\n",
    "    while x <= N:\n",
    "        if x % 2 == 1:\n",
    "            lista.append(x)\n",
    "        x = x + 1\n",
    "    return lista\n",
    "impares2(10)\n",
    "\n",
    "def impares3(N):\n",
    "    return [x for x in range (0, N+1) if x%2 ==1]\n",
    "impares3(10)"
   ]
  },
  {
   "cell_type": "markdown",
   "id": "bdcbffb0",
   "metadata": {},
   "source": [
    "### Exercício 2: Ler uma lista de N números\n",
    "- Defina uma função que recebe um argumento **N** e lê **N** números armazenando-os numa lista que é devolvida como resultado;\n",
    "- Crie um programa que chama a função e imprime a lista resultante."
   ]
  },
  {
   "cell_type": "code",
   "execution_count": 19,
   "id": "af973146-3bb4-4fa8-ba6c-b887b79ccff8",
   "metadata": {},
   "outputs": [
    {
     "data": {
      "text/plain": [
       "[11, 11, 17, 5, 1, 16, 13, 9, 6, 6, 15, 0, 3, 0, 12, 14, 6, 10, 7, 6]"
      ]
     },
     "execution_count": 19,
     "metadata": {},
     "output_type": "execute_result"
    }
   ],
   "source": [
    "# Solução do exercício 2\n",
    "def leLista(N):\n",
    "    import random\n",
    "    lista = []\n",
    "    i = 0\n",
    "    while i < N:\n",
    "        n = random.randrange(0, N+1)\n",
    "        lista.append(n)    \n",
    "        i = i + 1\n",
    "    return lista\n",
    "leLista (20)"
   ]
  },
  {
   "cell_type": "markdown",
   "id": "bdcbffb0",
   "metadata": {},
   "source": [
    "### Exercício 3: Somar uma lista de números\n",
    "- Defina uma função que recebe uma lista como argumento e devolve a soma dos números nessa lista."
   ]
  },
  {
   "cell_type": "code",
   "execution_count": 22,
   "id": "64ad6f7b",
   "metadata": {},
   "outputs": [
    {
     "data": {
      "text/plain": [
       "15"
      ]
     },
     "execution_count": 22,
     "metadata": {},
     "output_type": "execute_result"
    }
   ],
   "source": [
    "# Solução do exercício 3\n",
    "def somaLista(lista):\n",
    "    soma = 0\n",
    "    for e in lista:\n",
    "        soma = soma + e\n",
    "    return soma\n",
    "somaLista ([1,7,3,4])"
   ]
  },
  {
   "cell_type": "markdown",
   "id": "65565661",
   "metadata": {},
   "source": [
    "### Exercício 4: Quadrado dos elementos de uma lista\n",
    "\n",
    "- Defina uma função que recebe uma lista como argumento e devolve uma nova lista com os quadrados de cada número da lista inicial. \n",
    "\n",
    "#### Input (exemplo)\n",
    "in: [1, 2, 3, 4]\n",
    "#### Output (exemplo)\n",
    "out: [1, 4, 9, 16]"
   ]
  },
  {
   "cell_type": "code",
   "execution_count": 43,
   "id": "7e3e2775",
   "metadata": {},
   "outputs": [
    {
     "name": "stdout",
     "output_type": "stream",
     "text": [
      "[4, 9, 16, 25]\n"
     ]
    }
   ],
   "source": [
    "# Solução do exercício 4\n",
    "def quadrados(lista):\n",
    "    res = []\n",
    "    for n in lista:\n",
    "        res.append(n*n)\n",
    "    return res\n",
    "print(quadrados([2,3,4,5]))"
   ]
  },
  {
   "cell_type": "markdown",
   "id": "bdcbffb0",
   "metadata": {},
   "source": [
    "### Exercício 5: Calcular a média duma lista de números\n",
    "- Defina uma função que recebe uma lista como argumento e devolve a média dos números nessa lista."
   ]
  },
  {
   "cell_type": "code",
   "execution_count": 44,
   "id": "a6c32b2e",
   "metadata": {},
   "outputs": [
    {
     "name": "stdout",
     "output_type": "stream",
     "text": [
      "2.0\n"
     ]
    }
   ],
   "source": [
    "# Solução do exercício 5\n",
    "def mediaLista(lista):\n",
    "    soma = 0\n",
    "    for e in lista:\n",
    "        soma = soma + e\n",
    "    media = soma / len(lista)\n",
    "    return media\n",
    "\n",
    "print(mediaLista([1,2,3]))"
   ]
  },
  {
   "cell_type": "markdown",
   "id": "f41ef69b",
   "metadata": {},
   "source": [
    "### Exercício 6: Maior de uma sequência\n",
    "- Defina uma função que recebe uma lista como argumento e devolve o maior número nessa lista."
   ]
  },
  {
   "cell_type": "code",
   "execution_count": 6,
   "id": "86f5b24d",
   "metadata": {},
   "outputs": [
    {
     "name": "stdout",
     "output_type": "stream",
     "text": [
      "9\n"
     ]
    }
   ],
   "source": [
    "# Solução do exercício 6\n",
    "def maiorLista(lista):\n",
    "    maior = 0\n",
    "    for n in lista:\n",
    "        if n > maior:\n",
    "            maior = n\n",
    "            n = n + 1\n",
    "    return max(lista)\n",
    "print(maiorLista([0,2,5,7,9]))\n",
    "\n",
    "   "
   ]
  },
  {
   "cell_type": "markdown",
   "id": "d11cdd11",
   "metadata": {},
   "source": [
    "### Exercício 6: Menor de uma sequência\n",
    "- Defina uma função que recebe uma lista como argumento e devolve o menor número nessa lista."
   ]
  },
  {
   "cell_type": "code",
   "execution_count": 8,
   "id": "7549c7d7",
   "metadata": {},
   "outputs": [
    {
     "name": "stdout",
     "output_type": "stream",
     "text": [
      "-7\n"
     ]
    }
   ],
   "source": [
    "# Solução do exercício 6\n",
    "def menorLista(lista):\n",
    "    menor = -5\n",
    "    for n in lista:\n",
    "        if n < menor:\n",
    "            menor = n\n",
    "            n = n + 1 \n",
    "    return min(lista)\n",
    "print(menorLista([-7,-2,0,4,6]))"
   ]
  },
  {
   "cell_type": "markdown",
   "id": "bb597e57",
   "metadata": {},
   "source": [
    "### Exercício 7: Contar Ocorrências\n",
    "- Defina uma função que recebe uma lista e um elemento como argumento, e que devolve o número de ocurrências desse elemento na lista."
   ]
  },
  {
   "cell_type": "code",
   "execution_count": 1,
   "id": "e426e923",
   "metadata": {},
   "outputs": [
    {
     "name": "stdout",
     "output_type": "stream",
     "text": [
      "3\n"
     ]
    }
   ],
   "source": [
    "# Solução do exercício 7\n",
    "def occor(lista, elem):\n",
    "    contador = 0 \n",
    "    for n in lista:\n",
    "        if n == elem:\n",
    "            contador = contador + 1\n",
    "    return contador  \n",
    "\n",
    "listaA = [1, 2 , 6 , 3, 1, 5, 1, 9]\n",
    "elemA = 1\n",
    "print (occor(listaA, elemA))"
   ]
  },
  {
   "cell_type": "markdown",
   "id": "775a02a5",
   "metadata": {},
   "source": [
    "### Exercício 8: Contar strings\n",
    "- Defina uma função que recebe uma lista de strings como argumento e devolve número de strings nessa lista que:\n",
    "    1. Têm tamanho maior ou igual a 3;\n",
    "    2. Começam e terminam pelo mesmo caracter.\n",
    "#### Input (exemplo)\n",
    "in: ['abc', 'xyz', 'ab', '1221']\n",
    "#### Output (exemplo)\n",
    "out1: 3\n",
    "\n",
    "out2: 1"
   ]
  },
  {
   "cell_type": "code",
   "execution_count": 10,
   "id": "7390bc6a",
   "metadata": {},
   "outputs": [
    {
     "ename": "IndentationError",
     "evalue": "unexpected indent (3046931042.py, line 4)",
     "output_type": "error",
     "traceback": [
      "\u001b[1;36m  Cell \u001b[1;32mIn[10], line 4\u001b[1;36m\u001b[0m\n\u001b[1;33m    for n in lista:\u001b[0m\n\u001b[1;37m    ^\u001b[0m\n\u001b[1;31mIndentationError\u001b[0m\u001b[1;31m:\u001b[0m unexpected indent\n"
     ]
    }
   ],
   "source": [
    "# Solução do exercício 8\n",
    "\n",
    "# Está a dar ERRO !!!!!\n",
    "\n",
    "def contarStringsLista(lista):\n",
    "    contador = 0\n",
    "     for n in lista:\n",
    "        if len(n)>=3:\n",
    "            if n[0]==n[-1]:\n",
    "                contador = contador + 1\n",
    "    return contador \n",
    "listaA = [\"abda\", \"ccbfc\", \"abcd\", \"ab\", \"cdc\"]\n",
    "print (contarStringsLista(listaA))"
   ]
  },
  {
   "cell_type": "markdown",
   "id": "f9ba457b",
   "metadata": {},
   "source": [
    "### Exercício 9: Remover duplicados\n",
    "- Defina uma função que recebe uma lista como argumento e devolve uma nova lista eliminando elementos repetidos."
   ]
  },
  {
   "cell_type": "code",
   "execution_count": 3,
   "id": "0abc61e5",
   "metadata": {},
   "outputs": [
    {
     "name": "stdout",
     "output_type": "stream",
     "text": [
      "[1, 2, 5, 4, 7, 6, 8, 9]\n"
     ]
    }
   ],
   "source": [
    "# Solução do exercício 9\n",
    "def remDupLista(lista):\n",
    "    listanr = []\n",
    "    for n in lista:\n",
    "        if n not in listanr:\n",
    "            listanr.append(n)\n",
    "    return listanr\n",
    "\n",
    "lista = [1, 2, 5, 4, 1 , 7, 6, 8, 7, 9, 5]\n",
    "print (remDupLista(lista))\n",
    "    "
   ]
  },
  {
   "cell_type": "markdown",
   "id": "9bc471d8",
   "metadata": {},
   "source": [
    "### Exercício 10: eVazia?\n",
    "- Defina uma função que recebe uma lista como argumento e devolve um resultado booleano verdadeiro se a lista estiver vazia."
   ]
  },
  {
   "cell_type": "code",
   "execution_count": 11,
   "id": "18cf2aff",
   "metadata": {},
   "outputs": [
    {
     "name": "stdout",
     "output_type": "stream",
     "text": [
      "True\n"
     ]
    }
   ],
   "source": [
    "# Solução do exercício 10\n",
    "def eVazia(lista):\n",
    "    if len(lista) == 0:\n",
    "      n = True\n",
    "    else:\n",
    "        n = False \n",
    "    return n \n",
    "listaA = []\n",
    "print (eVazia(listaA))\n"
   ]
  },
  {
   "cell_type": "markdown",
   "id": "72b8fac0",
   "metadata": {},
   "source": [
    "### Exercício 11: Copiar lista\n",
    "- Defina uma função que recebe uma lista como argumento e devolve uma nova lista correspondente a uma cópia da lista recebida."
   ]
  },
  {
   "cell_type": "code",
   "execution_count": 12,
   "id": "a61ca503",
   "metadata": {},
   "outputs": [
    {
     "name": "stdout",
     "output_type": "stream",
     "text": [
      "[1, 5, 8, 9, 15]\n"
     ]
    }
   ],
   "source": [
    "# Solução do exercício 11\n",
    "# [:] quer dizer que começa no primeiro elemento e vai até ao último elemento da lista, o que faz criar uma cópia da lista original\n",
    "\n",
    "def copiarLista(lista):\n",
    "    listac = lista[:]\n",
    "    return listac\n",
    "\n",
    "listaA=[1, 5, 8, 9, 15]\n",
    "print(copiarLista(listaA))"
   ]
  },
  {
   "cell_type": "markdown",
   "id": "d170cc50",
   "metadata": {},
   "source": [
    "### Exercício 12: Strings maiores que n carateres\n",
    "- Defina uma função que recebe dois argumentos, uma lista de strings e um número inteiro, e que devolve uma nova lista de strings em que estas têm um comprimento igual ou superior ao valor inteiro passado como argumento."
   ]
  },
  {
   "cell_type": "code",
   "execution_count": 13,
   "id": "1944ef1d",
   "metadata": {},
   "outputs": [
    {
     "name": "stdout",
     "output_type": "stream",
     "text": [
      "['animal', 'cinema', 'televisao']\n"
     ]
    }
   ],
   "source": [
    "# Solução do exercício 12\n",
    "from random import randint\n",
    "def stringsMaioresLista(lista, n):\n",
    "    listaacn = []\n",
    "    for string in lista:\n",
    "        if len(string) >= n:\n",
    "            listaacn.append(string)\n",
    "    return listaacn\n",
    "\n",
    "listaA = [\"ola\", \"animal\", \"cinema\", \"pao\", \"televisao\"]\n",
    "n = 5\n",
    "\n",
    "print(stringsMaioresLista(listaA, n))"
   ]
  },
  {
   "cell_type": "markdown",
   "id": "af46fe06",
   "metadata": {},
   "source": [
    "### Exercício 13: Comum?\n",
    "- Defina uma função que recebe duas listas como argumento, e que devolve o valor booleano verdadeiro se as listas tiverem pelo menos um elemento comum."
   ]
  },
  {
   "cell_type": "code",
   "execution_count": 14,
   "id": "7a2f4413",
   "metadata": {},
   "outputs": [
    {
     "name": "stdout",
     "output_type": "stream",
     "text": [
      "True\n"
     ]
    }
   ],
   "source": [
    "# Solução do exercício 13\n",
    "def haComuns(listaA, listaB):\n",
    "    resultado = False\n",
    "    for n in listaA:\n",
    "        if n in listaB:\n",
    "            resultado = True\n",
    "    return resultado \n",
    "\n",
    "listaA = [1, 2, 3, 5, 7]\n",
    "listaB = [7, 9, 6, 4]\n",
    "\n",
    "print(haComuns(listaA, listaB))"
   ]
  },
  {
   "cell_type": "markdown",
   "id": "061bae0e",
   "metadata": {},
   "source": [
    "### Exercício 14: Comuns\n",
    "- Defina uma função que recebe duas listas como argumento, e que devolve uma nova lista com os valores comuns às duas listas."
   ]
  },
  {
   "cell_type": "code",
   "execution_count": 16,
   "id": "02db9458",
   "metadata": {},
   "outputs": [
    {
     "name": "stdout",
     "output_type": "stream",
     "text": [
      "[1, 9]\n"
     ]
    }
   ],
   "source": [
    "# Solução do exercício 14\n",
    "def comuns(listaA, listaB):\n",
    "    listaC = []\n",
    "    for n in listaA:\n",
    "        if n in listaB:\n",
    "            listaC.append(n)\n",
    "    return (listaC)\n",
    "listaA = [1,4,7,9,12]\n",
    "listaB = [1,3,6,9,15]\n",
    "print(comuns(listaA,listaB))"
   ]
  },
  {
   "cell_type": "markdown",
   "id": "af4f2b11",
   "metadata": {},
   "source": [
    "### Exercício 15: Únicos\n",
    "- Defina uma função que recebe duas listas como argumento, e que devolve uma nova lista com os valores que apenas existem numa delas."
   ]
  },
  {
   "cell_type": "code",
   "execution_count": 17,
   "id": "01a0d35e",
   "metadata": {},
   "outputs": [
    {
     "name": "stdout",
     "output_type": "stream",
     "text": [
      "[1, 2, 3, 4, 5, 6, 7, 8, 9, 10]\n"
     ]
    }
   ],
   "source": [
    "# Solução do exercício 15\n",
    "def unicos(listaA, listaB):\n",
    "    listaC = []\n",
    "\n",
    "    for n in listaA:\n",
    "        if n not in listaB:\n",
    "            listaC.append(n)\n",
    "    \n",
    "    for n in listaB:\n",
    "        if n not in listaA:\n",
    "            listaC.append(n)\n",
    "\n",
    "    return listaC\n",
    "\n",
    "listaA = [1,2,3,4,5,6]\n",
    "listaB = [7,8,9,10]\n",
    "print (unicos(listaA, listaB))"
   ]
  },
  {
   "cell_type": "markdown",
   "id": "2acbab46",
   "metadata": {},
   "source": [
    "### Exercício 16: indiceDe\n",
    "- Defina uma função que recebe uma lista e um elemento como argumento, e que devolve o índice desse elemento na lista. No caso do elemento não existir na lista deverá devolver o valor -1."
   ]
  },
  {
   "cell_type": "code",
   "execution_count": 18,
   "id": "3891e6c3",
   "metadata": {},
   "outputs": [
    {
     "name": "stdout",
     "output_type": "stream",
     "text": [
      "O índice do elem na lista é 5\n"
     ]
    }
   ],
   "source": [
    "# Solução do exercício 16\n",
    "def unicos(lista, elem):\n",
    "    \n",
    "    for n in lista:\n",
    "        if elem in lista:\n",
    "            i = lista.index(elem)\n",
    "        elif elem not in lista:\n",
    "            i = -1\n",
    "\n",
    "    return \"O índice do elem na lista é \" + str(i)\n",
    "\n",
    "listaA = [1, 2, 3, 5 , 7, 9, 4]\n",
    "elem = 9\n",
    "\n",
    "print (unicos(listaA, elem))"
   ]
  },
  {
   "cell_type": "markdown",
   "id": "1d9c2fbc",
   "metadata": {},
   "source": [
    "### Exercício 17: estaOrdenada\n",
    "- Defina uma função que recebe uma lista de números e verifica se a mesma está ordenada por ordem crescente."
   ]
  },
  {
   "cell_type": "code",
   "execution_count": 19,
   "id": "fb44546a",
   "metadata": {},
   "outputs": [
    {
     "name": "stdout",
     "output_type": "stream",
     "text": [
      "False\n"
     ]
    }
   ],
   "source": [
    "# Solução do exercício 17\n",
    "def estaOrdenada(lista):\n",
    "    tam = len(lista)\n",
    "    while tam > 0:\n",
    "        for n in range(0, tam - 1):\n",
    "            if lista[n]> lista[n + 1]:\n",
    "                return False \n",
    "        return True\n",
    "    tam = tam - 1\n",
    "\n",
    "listaA = [1, 2, 3, 4, 5, 9, 7]\n",
    "\n",
    "print(estaOrdenada(listaA))"
   ]
  },
  {
   "cell_type": "markdown",
   "id": "4c48dc90",
   "metadata": {},
   "source": [
    "### Exercício 18: estaOrdenadaCD\n",
    "- Modifique a função do exercício anterior para receber um parâmetro extra, **ordem**, que poderá ter valores \"C\" ou \"D\" e que vai verificar se a lista está ordenada por ordem crescente se **ordem=\"C\"** ou se está ordenada por ordem decrescente se **ordem=\"D\"**."
   ]
  },
  {
   "cell_type": "code",
   "execution_count": 20,
   "id": "f4b83960",
   "metadata": {},
   "outputs": [
    {
     "name": "stdout",
     "output_type": "stream",
     "text": [
      "False\n"
     ]
    }
   ],
   "source": [
    "# Solução do exercício 18\n",
    "def estaOrdenadaCD(lista, ordem):\n",
    "    tam = len(lista)\n",
    "    while tam > 0:\n",
    "        for n in range(0, tam - 1):\n",
    "            if ordem == \"C\":\n",
    "                if lista[n]> lista[n + 1]:\n",
    "                    return False \n",
    "            elif ordem == \"D\":\n",
    "                if lista[n] < lista[n + 1]:\n",
    "                    return False \n",
    "        return True\n",
    "    tam = tam - 1\n",
    "\n",
    "listaA = [1, 2, 9, 5, 6, 7]\n",
    "ordem = \"C\"\n",
    "print(estaOrdenada(listaA))"
   ]
  },
  {
   "cell_type": "markdown",
   "id": "4193a91b",
   "metadata": {},
   "source": [
    "### TPC4: Aplicação para manipulação de listas de inteiros\n",
    "- Crie uma aplicação em Python que coloca no monitor o seguinte menu:\n",
    "    * (1) Criar Lista \n",
    "    * (2) Ler Lista\n",
    "    * (3) Soma\n",
    "    * (4) Média\n",
    "    * (5) Maior\n",
    "    * (6) Menor\n",
    "    * (7) estaOrdenada por ordem crescente\n",
    "    * (8) estaOrdenada por ordem decrescente\n",
    "    * (9) Procura um elemento\n",
    "    * (0) Sair\n",
    "- O utilizador irá escolher uma das opções introduzindo o número correspondente;\n",
    "- Se a opção não for sair, a aplicação executa a operação pretendida, apresenta o resultado e a seguir apresenta de novo o menu;\n",
    "- Se a opção for sair, a aplicação termina colocando uma mensagem no monitor.\n",
    "\n",
    "* No desenvolvimento da aplicação deverá ter em atenção o seguinte:\n",
    "    - A aplicação terá uma variável interna para guardar uma lista de números;\n",
    "    - Na opção 1, deverá ser criada uma lista de números aleatórios entre 1 e 100 que será guardada na variável interna;\n",
    "    - Na opção 2, deverá ser criada uma lista com números introduzidos pelo utilizador, que será guardada na variável interna;\n",
    "    - Nestas primeiras opções, se a variável interna já tiver uma lista, esta será sobreposta/apagada pela nova lista;\n"
   ]
  },
  {
   "cell_type": "code",
   "execution_count": 47,
   "id": "09a01118",
   "metadata": {},
   "outputs": [
    {
     "name": "stdout",
     "output_type": "stream",
     "text": [
      "1\n",
      "\n",
      "\n",
      "4\n",
      "[48, 81, 25, 85]\n"
     ]
    },
    {
     "ename": "ValueError",
     "evalue": "invalid literal for int() with base 10: ''",
     "output_type": "error",
     "traceback": [
      "\u001b[1;31m---------------------------------------------------------------------------\u001b[0m",
      "\u001b[1;31mValueError\u001b[0m                                Traceback (most recent call last)",
      "\u001b[1;32mc:\\Users\\Oliveira\\OneDrive\\Desktop\\PROGRAMAÇAO\\AulaP4-20231002.ipynb Cell 41\u001b[0m line \u001b[0;36m3\n\u001b[0;32m      <a href='vscode-notebook-cell:/c%3A/Users/Oliveira/OneDrive/Desktop/PROGRAMA%C3%87AO/AulaP4-20231002.ipynb#X64sZmlsZQ%3D%3D?line=0'>1</a>\u001b[0m l \u001b[39m=\u001b[39m []\n\u001b[0;32m      <a href='vscode-notebook-cell:/c%3A/Users/Oliveira/OneDrive/Desktop/PROGRAMA%C3%87AO/AulaP4-20231002.ipynb#X64sZmlsZQ%3D%3D?line=1'>2</a>\u001b[0m \u001b[39mwhile\u001b[39;00m menu \u001b[39m!=\u001b[39m \u001b[39m0\u001b[39m:\n\u001b[1;32m----> <a href='vscode-notebook-cell:/c%3A/Users/Oliveira/OneDrive/Desktop/PROGRAMA%C3%87AO/AulaP4-20231002.ipynb#X64sZmlsZQ%3D%3D?line=2'>3</a>\u001b[0m     menu \u001b[39m=\u001b[39m \u001b[39mint\u001b[39;49m(\u001b[39minput\u001b[39;49m(\u001b[39m\"\u001b[39;49m\u001b[39mSelecione o modo da sua lista:\u001b[39;49m\u001b[39m\\n\u001b[39;49;00m\u001b[39m1 - Criar Lista\u001b[39;49m\u001b[39m\\n\u001b[39;49;00m\u001b[39m2 - Ler Lista\u001b[39;49m\u001b[39m\\n\u001b[39;49;00m\u001b[39m0 - Sair\u001b[39;49m\u001b[39m\"\u001b[39;49m))\n\u001b[0;32m      <a href='vscode-notebook-cell:/c%3A/Users/Oliveira/OneDrive/Desktop/PROGRAMA%C3%87AO/AulaP4-20231002.ipynb#X64sZmlsZQ%3D%3D?line=3'>4</a>\u001b[0m     \u001b[39mprint\u001b[39m(menu)\n\u001b[0;32m      <a href='vscode-notebook-cell:/c%3A/Users/Oliveira/OneDrive/Desktop/PROGRAMA%C3%87AO/AulaP4-20231002.ipynb#X64sZmlsZQ%3D%3D?line=4'>5</a>\u001b[0m     \u001b[39mprint\u001b[39m(\u001b[39m\"\u001b[39m\u001b[39m\\n\u001b[39;00m\u001b[39m\"\u001b[39m)\n",
      "\u001b[1;31mValueError\u001b[0m: invalid literal for int() with base 10: ''"
     ]
    }
   ],
   "source": [
    "\n",
    "l = []\n",
    "while menu != 0:\n",
    "    menu = int(input(\"Selecione o modo da sua lista:\\n1 - Criar Lista\\n2 - Ler Lista\\n0 - Sair\"))\n",
    "    print(menu)\n",
    "    print(\"\\n\")\n",
    "    \n",
    "    if menu == 1:\n",
    "        def criaLista(N):\n",
    "            import random\n",
    "            i = 0\n",
    "            while i < N:\n",
    "                l.append(random.randrange(1,101))\n",
    "                i = i + 1\n",
    "            return l\n",
    "        N = int(input(\"Quantos números quer que a lista contenha?\"))\n",
    "        print(N)\n",
    "        l = criaLista(N)\n",
    "        print(l)\n",
    "\n",
    "    elif menu == 2:\n",
    "        def leLista(N):\n",
    "            l = []\n",
    "            a = 1\n",
    "            while N > 0:\n",
    "                x = int(input(\"Insira um nº\" + str(a) + \":\"))\n",
    "                a = a + 1\n",
    "                N = N - 1\n",
    "                l.append(x)\n",
    "            return l\n",
    "        N = int(input(\"Quantos números quer que a lista contenha?\"))\n",
    "        print(\"Escolha os números\")\n",
    "        l = leLista(N)\n",
    "        print(l)\n",
    "\n",
    "print(\"\\n\")\n",
    "opçao = int(input(\"Selecione a sua opção:\\n3 - Soma\\n4 - Média\\n5 - Maior\\n6 - Menor\\n7 - Ordenada em ordem crescente\\n8 - Ordenada em ordem decrescente\\n9 - Procurar um elemento\"))\n",
    "print(\"opçao\")\n",
    "print(\"\\n\")\n",
    "\n",
    "if opçao == 3:\n",
    "    def somaLista(lista):\n",
    "        soma = 0\n",
    "        for n in lista:\n",
    "            soma = soma + n \n",
    "        return soma\n",
    "    str(somaLista(l))\n",
    "    print(\"A soma de todos os elemntos da lista é:\" + str(somaLista(l) + \"\"))\n",
    "    break\n",
    "\n",
    "if opçao == 4:\n",
    "    def mediaLista(lista):\n",
    "        soma = 0\n",
    "        for n in lista:\n",
    "            soma = soma + n\n",
    "            media = soma / len(lista)\n",
    "        return media\n",
    "    str(mediaLista(l))\n",
    "    print(\"A média é:\" + str(mediaLista(l) + \"\"))\n",
    "    break\n",
    "\n",
    "if opçao == 5:\n",
    "    def maiorLista(lista):\n",
    "        maior = 0\n",
    "        for n in lista:\n",
    "            if n > maior:\n",
    "                maior = n\n",
    "        return maior\n",
    "    str(maiorLista(l))\n",
    "    print(\"O maior número da lista é:\" + str(maiorLista(l) + \"\"))\n",
    "    break\n",
    "\n",
    "if opçao == 6:\n",
    "    def menorLista(lista):\n",
    "        menor = lista[0]\n",
    "        for n in lista[1:]:\n",
    "            if n < menor:\n",
    "            menor = n \n",
    "    return min(lista)\n",
    "    str(menorLista(l))\n",
    "    print(\"O menor número da lista é:\" + str(menorLista(l)))\n",
    "    break\n",
    "\n",
    "if opçao == 7: \n",
    "    print(\"A lista está ordenada de forma crescente?\")\n",
    "    def estaOrdenada(lista):\n",
    "        tam = len(lista)\n",
    "        for i in range(len(lista) - 1):\n",
    "            if lista[i] > lista[i + 1]:\n",
    "                return False\n",
    "        return True\n",
    "    print(estaOrdenada(l))\n",
    "    break\n",
    "\n",
    "if opçao == 8:\n",
    "    print(\"A lista está ordenada de forma decrescente?\")\n",
    "    def estaOrdenada(lista):\n",
    "        tam = len(lista)\n",
    "        for i in range(len(lista) - 1):\n",
    "            if lista[i] > lista[i + 1]:\n",
    "                return False\n",
    "        return True\n",
    "    print(estaOrdenada(l))\n",
    "    break\n",
    "\n",
    "if opçao == 9:\n",
    "    def unicos(lista,elem):\n",
    "        for n in lista:\n",
    "            if elem in lista:\n",
    "                i = lista.index(elem)\n",
    "            elif elem not in lista:\n",
    "                i = -1\n",
    "        return \"O índice do elemento na lista é\" + str(i)\n",
    "    elem = int(input(\"Que elemento quer encontrar?\"))\n",
    "    print (unicos(l,elem))\n",
    "    break\n",
    "\n"
   ]
  },
  {
   "cell_type": "code",
   "execution_count": null,
   "id": "a7c3b980",
   "metadata": {},
   "outputs": [],
   "source": []
  }
 ],
 "metadata": {
  "kernelspec": {
   "display_name": "Python 3.9.1 64-bit",
   "language": "python",
   "name": "python3"
  },
  "language_info": {
   "codemirror_mode": {
    "name": "ipython",
    "version": 3
   },
   "file_extension": ".py",
   "mimetype": "text/x-python",
   "name": "python",
   "nbconvert_exporter": "python",
   "pygments_lexer": "ipython3",
   "version": "3.11.5"
  },
  "vscode": {
   "interpreter": {
    "hash": "aee8b7b246df8f9039afb4144a1f6fd8d2ca17a180786b69acc140d282b71a49"
   }
  }
 },
 "nbformat": 4,
 "nbformat_minor": 5
}
